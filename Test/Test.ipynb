{
 "cells": [
  {
   "cell_type": "code",
   "execution_count": 1,
   "metadata": {},
   "outputs": [
    {
     "data": {
      "text/plain": [
       "1.0"
      ]
     },
     "execution_count": 1,
     "metadata": {},
     "output_type": "execute_result"
    }
   ],
   "source": [
    "gamma = 0.99\n",
    "\n",
    "gamma ** 0"
   ]
  },
  {
   "cell_type": "code",
   "execution_count": 3,
   "metadata": {},
   "outputs": [
    {
     "name": "stdout",
     "output_type": "stream",
     "text": [
      "0 a b c\n",
      "1 d e f\n"
     ]
    }
   ],
   "source": [
    "a = [(\"a\", \"b\", \"c\"), (\"d\", \"e\", \"f\")]\n",
    "for i, (x,y,z) in enumerate(a):\n",
    "    print(i,x,y,z)"
   ]
  },
  {
   "cell_type": "code",
   "execution_count": 4,
   "metadata": {},
   "outputs": [
    {
     "name": "stdout",
     "output_type": "stream",
     "text": [
      "3\n"
     ]
    }
   ],
   "source": [
    "a_list = [0, 1, 2, 3, 4]\n",
    "print(a_list[-2])"
   ]
  },
  {
   "cell_type": "code",
   "execution_count": 5,
   "metadata": {},
   "outputs": [
    {
     "data": {
      "text/plain": [
       "array([1., 2., 3.])"
      ]
     },
     "execution_count": 5,
     "metadata": {},
     "output_type": "execute_result"
    }
   ],
   "source": [
    "import numpy as np\n",
    "\n",
    "x = np.array([1., 2., 3.])\n",
    "x"
   ]
  },
  {
   "cell_type": "code",
   "execution_count": 6,
   "metadata": {},
   "outputs": [
    {
     "data": {
      "text/plain": [
       "array([[1., 2., 3.]])"
      ]
     },
     "execution_count": 6,
     "metadata": {},
     "output_type": "execute_result"
    }
   ],
   "source": [
    "np.array([x])"
   ]
  },
  {
   "cell_type": "code",
   "execution_count": 1,
   "metadata": {},
   "outputs": [],
   "source": [
    "def get_env_type(env_name):\n",
    "    index = env_name.find(\"_\")\n",
    "    if index == -1:\n",
    "        return env_name\n",
    "    return env_name[:index]"
   ]
  },
  {
   "cell_type": "code",
   "execution_count": 5,
   "metadata": {},
   "outputs": [
    {
     "data": {
      "text/plain": [
       "'gym'"
      ]
     },
     "execution_count": 5,
     "metadata": {},
     "output_type": "execute_result"
    }
   ],
   "source": [
    "get_env_type(\"gym_ppo_sac\")"
   ]
  },
  {
   "cell_type": "code",
   "execution_count": 6,
   "metadata": {},
   "outputs": [],
   "source": [
    "def get_env_id(env_name):\n",
    "    index = env_name.find(\"_\")\n",
    "    if index == -1 or index == len(env_name) - 1:\n",
    "        return \"\"\n",
    "    return env_name[index + 1:]"
   ]
  },
  {
   "cell_type": "code",
   "execution_count": 7,
   "metadata": {},
   "outputs": [
    {
     "data": {
      "text/plain": [
       "'ppo_sac'"
      ]
     },
     "execution_count": 7,
     "metadata": {},
     "output_type": "execute_result"
    }
   ],
   "source": [
    "get_env_id(\"gym_ppo_sac\")"
   ]
  },
  {
   "cell_type": "code",
   "execution_count": 8,
   "metadata": {},
   "outputs": [
    {
     "name": "stdout",
     "output_type": "stream",
     "text": [
      "2025/07/13/11:24\n"
     ]
    }
   ],
   "source": [
    "from datetime import datetime\n",
    "\n",
    "# 获取当前时间\n",
    "now = datetime.now().strftime(\"%Y/%m/%d/%H:%M\")\n",
    "\n",
    "# 格式化为指定字符串\n",
    "print(now)  # 输出示例：2025/07/13/11:23"
   ]
  },
  {
   "cell_type": "code",
   "execution_count": 13,
   "metadata": {},
   "outputs": [
    {
     "name": "stdout",
     "output_type": "stream",
     "text": [
      "0.4586067093870614\n",
      "0.87786790373901\n",
      "0.4586067093870614\n",
      "0.87786790373901\n"
     ]
    }
   ],
   "source": [
    "import random\n",
    "\n",
    "random.seed(40)\n",
    "print(random.random())\n",
    "print(random.random())\n",
    "\n",
    "random.seed(40)\n",
    "print(random.random())\n",
    "print(random.random())"
   ]
  },
  {
   "cell_type": "code",
   "execution_count": 3,
   "metadata": {},
   "outputs": [
    {
     "name": "stdout",
     "output_type": "stream",
     "text": [
      "tensor([[ 0.5848,  0.7378, -0.7339,  1.9564],\n",
      "        [-0.5180,  0.1761,  0.6945,  0.0887],\n",
      "        [-1.0532,  2.1076, -0.2736, -1.1283],\n",
      "        [-0.1555,  1.2585,  0.4898, -0.7288],\n",
      "        [ 0.8346, -0.1941,  2.1430,  0.0954]])\n"
     ]
    }
   ],
   "source": [
    "import torch\n",
    "\n",
    "logits = torch.randn(5, 4)\n",
    "print(logits)"
   ]
  },
  {
   "cell_type": "code",
   "execution_count": 9,
   "metadata": {},
   "outputs": [
    {
     "name": "stdout",
     "output_type": "stream",
     "text": [
      "Logits shape: torch.Size([5, 4])\n",
      "Mean shape: torch.Size([5, 2])\n",
      "Std shape: torch.Size([5, 2])\n",
      "Batch shape: torch.Size([5])\n",
      "Event shape: torch.Size([2])\n"
     ]
    }
   ],
   "source": [
    "import torch\n",
    "\n",
    "logits = torch.randn(5, 4)\n",
    "print(f\"Logits shape: {logits.shape}\")  # 输出: torch.Size([5, 4])\n",
    "\n",
    "mean, std = torch.chunk(logits, chunks=2, dim=-1)\n",
    "std = torch.abs(std)\n",
    "print(f\"Mean shape: {mean.shape}\")      # 输出: torch.Size([5, 2])\n",
    "print(f\"Std shape: {std.shape}\")        # 输出: torch.Size([5, 2])\n",
    "\n",
    "gauss_distribution = torch.distributions.Independent(\n",
    "    base_distribution=torch.distributions.Normal(mean, std),\n",
    "    reinterpreted_batch_ndims=1,\n",
    ")\n",
    "\n",
    "# 查看分布的批量维度和事件维度\n",
    "print(f\"Batch shape: {gauss_distribution.batch_shape}\")  # 输出: torch.Size([5])\n",
    "print(f\"Event shape: {gauss_distribution.event_shape}\")  # 输出: torch.Size([2])"
   ]
  },
  {
   "cell_type": "code",
   "execution_count": 16,
   "metadata": {},
   "outputs": [
    {
     "data": {
      "text/plain": [
       "tensor([-355.1440,   -3.8576,   -2.7260, -100.1602,   -2.5839])"
      ]
     },
     "execution_count": 16,
     "metadata": {},
     "output_type": "execute_result"
    }
   ],
   "source": [
    "# 上面是由策略网络生成的 logits 导出来的动作的分布（每个样本都有2个动作维度上的均值与标准差）\n",
    "action_sample = torch.randn(5, 2)  #  生成 5 个动作样本（只能是5个，因为gauss_distribution的batch_shape=(5,)），动作的维度是2\n",
    "gauss_distribution.log_prob(action_sample)"
   ]
  },
  {
   "cell_type": "code",
   "execution_count": 14,
   "metadata": {},
   "outputs": [
    {
     "data": {
      "text/plain": [
       "tensor([ 1.1452,  3.5128, -0.1248,  0.5330,  3.5672])"
      ]
     },
     "execution_count": 14,
     "metadata": {},
     "output_type": "execute_result"
    }
   ],
   "source": [
    "gauss_distribution.entropy()"
   ]
  },
  {
   "cell_type": "code",
   "execution_count": 17,
   "metadata": {},
   "outputs": [
    {
     "data": {
      "text/plain": [
       "tensor([[-0.6518, -1.9213],\n",
       "        [ 2.0678,  1.2124],\n",
       "        [ 0.4446,  0.2445],\n",
       "        [ 1.0378, -1.6959],\n",
       "        [-2.1535, -0.8280]])"
      ]
     },
     "execution_count": 17,
     "metadata": {},
     "output_type": "execute_result"
    }
   ],
   "source": [
    "gauss_distribution.sample()"
   ]
  },
  {
   "cell_type": "code",
   "execution_count": 19,
   "metadata": {},
   "outputs": [
    {
     "data": {
      "text/plain": [
       "tensor([0., 0., 0., 0., 0.])"
      ]
     },
     "execution_count": 19,
     "metadata": {},
     "output_type": "execute_result"
    }
   ],
   "source": [
    "torch.zeros_like(std).sum(-1)"
   ]
  },
  {
   "cell_type": "code",
   "execution_count": 20,
   "metadata": {},
   "outputs": [
    {
     "name": "stdout",
     "output_type": "stream",
     "text": [
      "{'nums': 1}\n"
     ]
    }
   ],
   "source": [
    "dict1 = dict()\n",
    "\n",
    "dict2 = dict1.copy()\n",
    "\n",
    "dict2[\"nums\"] = 1\n",
    "\n",
    "print(dict2)"
   ]
  },
  {
   "cell_type": "code",
   "execution_count": 21,
   "metadata": {},
   "outputs": [
    {
     "name": "stdout",
     "output_type": "stream",
     "text": [
      "{}\n"
     ]
    }
   ],
   "source": [
    "print(dict1)"
   ]
  },
  {
   "cell_type": "code",
   "execution_count": 22,
   "metadata": {},
   "outputs": [
    {
     "data": {
      "text/plain": [
       "[64, 64]"
      ]
     },
     "execution_count": 22,
     "metadata": {},
     "output_type": "execute_result"
    }
   ],
   "source": [
    "hidden_sizes = [64, 64]\n",
    "\n",
    "list(hidden_sizes)"
   ]
  },
  {
   "cell_type": "code",
   "execution_count": 23,
   "metadata": {},
   "outputs": [
    {
     "data": {
      "text/plain": [
       "[3, 64, 64, 1]"
      ]
     },
     "execution_count": 23,
     "metadata": {},
     "output_type": "execute_result"
    }
   ],
   "source": [
    "[3] + list(hidden_sizes) + [1]"
   ]
  },
  {
   "cell_type": "code",
   "execution_count": 24,
   "metadata": {},
   "outputs": [
    {
     "data": {
      "text/plain": [
       "[64, 64, 64, 64]"
      ]
     },
     "execution_count": 24,
     "metadata": {},
     "output_type": "execute_result"
    }
   ],
   "source": [
    "layers = hidden_sizes + hidden_sizes\n",
    "layers"
   ]
  },
  {
   "cell_type": "code",
   "execution_count": 28,
   "metadata": {},
   "outputs": [
    {
     "name": "stdout",
     "output_type": "stream",
     "text": [
      "tensor([[-1.0153,  0.3354]])\n",
      "tensor([[0.5266, 1.3232]])\n",
      "tensor([[-1.0153,  0.3354,  0.5266,  1.3232]])\n"
     ]
    }
   ],
   "source": [
    "a = torch.randn(1, 2)\n",
    "b = torch.abs(torch.randn(1, 2))\n",
    "print(a)\n",
    "print(b)\n",
    "print(torch.cat((a, b), dim=-1))"
   ]
  },
  {
   "cell_type": "code",
   "execution_count": 29,
   "metadata": {},
   "outputs": [
    {
     "data": {
      "text/plain": [
       "tensor([[0.9907, 1.5593]])"
      ]
     },
     "execution_count": 29,
     "metadata": {},
     "output_type": "execute_result"
    }
   ],
   "source": [
    "torch.nn.functional.softplus(b) "
   ]
  },
  {
   "cell_type": "code",
   "execution_count": 30,
   "metadata": {},
   "outputs": [
    {
     "data": {
      "text/plain": [
       "2"
      ]
     },
     "execution_count": 30,
     "metadata": {},
     "output_type": "execute_result"
    }
   ],
   "source": [
    "(1+1)"
   ]
  },
  {
   "cell_type": "code",
   "execution_count": null,
   "metadata": {},
   "outputs": [],
   "source": []
  }
 ],
 "metadata": {
  "kernelspec": {
   "display_name": "CleanRL_CA",
   "language": "python",
   "name": "python3"
  },
  "language_info": {
   "codemirror_mode": {
    "name": "ipython",
    "version": 3
   },
   "file_extension": ".py",
   "mimetype": "text/x-python",
   "name": "python",
   "nbconvert_exporter": "python",
   "pygments_lexer": "ipython3",
   "version": "3.9.22"
  }
 },
 "nbformat": 4,
 "nbformat_minor": 2
}
